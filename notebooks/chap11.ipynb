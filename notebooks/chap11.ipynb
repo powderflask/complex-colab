{
  "cells": [
    {
      "cell_type": "markdown",
      "metadata": {
        "id": "_2tnWpQ1s14r"
      },
      "source": [
        "# Agent Based Models\n",
        "\n",
        "Code examples from [Think Complexity, 2nd edition](https://thinkcomplex.com).\n",
        "\n",
        "Copyright 2016 Allen Downey, [MIT License](http://opensource.org/licenses/MIT)"
      ]
    },
    {
      "cell_type": "code",
      "execution_count": 23,
      "metadata": {
        "id": "tFEt1Q4Ms14s",
        "outputId": "f2a8d1a3-d3cf-4816-dcea-705253fa2d3d",
        "colab": {
          "base_uri": "https://localhost:8080/"
        }
      },
      "outputs": [
        {
          "output_type": "stream",
          "name": "stdout",
          "text": [
            "Collecting empiricaldist\n",
            "  Downloading empiricaldist-0.6.3.tar.gz (9.3 kB)\n",
            "Building wheels for collected packages: empiricaldist\n",
            "  Building wheel for empiricaldist (setup.py) ... \u001b[?25l\u001b[?25hdone\n",
            "  Created wheel for empiricaldist: filename=empiricaldist-0.6.3-py3-none-any.whl size=10545 sha256=482e032d313afd7c55aad815e7630b279d83bc994e5a69676c9972fa7411fb80\n",
            "  Stored in directory: /root/.cache/pip/wheels/be/4d/30/c131cf1cbb0046f14436cdd7a29f4cc8553d34754e3685d071\n",
            "Successfully built empiricaldist\n",
            "Installing collected packages: empiricaldist\n",
            "Successfully installed empiricaldist-0.6.3\n"
          ]
        }
      ],
      "source": [
        "import os\n",
        "if not os.path.exists('utils.py'):\n",
        "    !wget https://raw.githubusercontent.com/AllenDowney/ThinkComplexity2/master/notebooks/utils.py\n",
        "if not os.path.exists('Cell2D.py'):\n",
        "  !wget  https://raw.githubusercontent.com/pearcej/complex-colab/master/notebooks/Cell2D.py\n",
        "! pip install empiricaldist\n",
        "\n",
        "%matplotlib inline\n",
        "\n",
        "import matplotlib.pyplot as plt\n",
        "import numpy as np\n",
        "import seaborn as sns\n",
        "\n",
        "from utils import decorate\n",
        "from Cell2D import Cell2D, draw_array\n"
      ]
    },
    {
      "cell_type": "markdown",
      "metadata": {
        "id": "jLLiyu1ws14t"
      },
      "source": [
        "## Schelling's model"
      ]
    },
    {
      "cell_type": "markdown",
      "metadata": {
        "id": "QTnsIj29s14u"
      },
      "source": [
        "`locs_where` is a wrapper on `np.nonzero` that returns results as a list of tuples."
      ]
    },
    {
      "cell_type": "code",
      "execution_count": 6,
      "metadata": {
        "id": "dPGX10DPs14v"
      },
      "outputs": [],
      "source": [
        "def locs_where(condition):\n",
        "    \"\"\"Find cells where a logical array is True.\n",
        "    \n",
        "    condition: logical array\n",
        "    \n",
        "    returns: list of location tuples\n",
        "    \"\"\"\n",
        "    return list(zip(*np.nonzero(condition)))"
      ]
    },
    {
      "cell_type": "markdown",
      "metadata": {
        "id": "372QC0qIs14v"
      },
      "source": [
        "Here's my implementation of Schelling's model:"
      ]
    },
    {
      "cell_type": "code",
      "execution_count": 7,
      "metadata": {
        "id": "1ITIROUns14w"
      },
      "outputs": [],
      "source": [
        "from scipy.signal import correlate2d\n",
        "from Cell2D import Cell2D, draw_array\n",
        "\n",
        "from matplotlib.colors import LinearSegmentedColormap\n",
        "\n",
        "# make a custom color map\n",
        "palette = sns.color_palette('muted')\n",
        "colors = 'white', palette[1], palette[0]\n",
        "cmap = LinearSegmentedColormap.from_list('cmap', colors)\n",
        "\n",
        "\n",
        "class Schelling(Cell2D):\n",
        "    \"\"\"Represents a grid of Schelling agents.\"\"\"\n",
        "    \n",
        "    options = dict(mode='same', boundary='wrap')\n",
        "\n",
        "    kernel = np.array([[1, 1, 1],\n",
        "                       [1, 0, 1],\n",
        "                       [1, 1, 1]], dtype=np.int8)\n",
        "    \n",
        "    def __init__(self, n, p):\n",
        "        \"\"\"Initializes the attributes.\n",
        "\n",
        "        n: number of rows\n",
        "        p: threshold on the fraction of similar neighbors\n",
        "        \"\"\"\n",
        "        self.p = p\n",
        "        # 0 is empty, 1 is red, 2 is blue\n",
        "        choices = np.array([0, 1, 2], dtype=np.int8)\n",
        "        probs = [0.1, 0.45, 0.45]\n",
        "        self.array = np.random.choice(choices, (n, n), p=probs)\n",
        "\n",
        "    def count_neighbors(self):\n",
        "        \"\"\"Surveys neighboring cells.\n",
        "        \n",
        "        returns: tuple of\n",
        "            empty: True where cells are empty\n",
        "            frac_red: fraction of red neighbors around each cell\n",
        "            frac_blue: fraction of blue neighbors around each cell\n",
        "            frac_same: fraction of neighbors with the same color\n",
        "        \"\"\"\n",
        "        a = self.array\n",
        "        \n",
        "        empty = a==0\n",
        "        red = a==1\n",
        "        blue = a==2\n",
        "\n",
        "        # count red neighbors, blue neighbors, and total\n",
        "        num_red = correlate2d(red, self.kernel, **self.options)\n",
        "        num_blue = correlate2d(blue, self.kernel, **self.options)\n",
        "        num_neighbors = num_red + num_blue\n",
        "\n",
        "        # compute fraction of similar neighbors\n",
        "        frac_red = num_red / num_neighbors\n",
        "        frac_blue = num_blue / num_neighbors\n",
        "        \n",
        "        # no neighbors is considered the same as no similar neighbors \n",
        "        # (this is an arbitrary choice for a rare event)\n",
        "        frac_red[num_neighbors == 0] = 0\n",
        "        frac_blue[num_neighbors == 0] = 0\n",
        "        \n",
        "        # for each cell, compute the fraction of neighbors with the same color\n",
        "        frac_same = np.where(red, frac_red, frac_blue)\n",
        "\n",
        "        # for empty cells, frac_same is NaN\n",
        "        frac_same[empty] = np.nan\n",
        "        \n",
        "        return empty, frac_red, frac_blue, frac_same\n",
        "\n",
        "    def segregation(self):\n",
        "        \"\"\"Computes the average fraction of similar neighbors.\n",
        "        \n",
        "        returns: fraction of similar neighbors, averaged over cells\n",
        "        \"\"\"\n",
        "        _, _, _, frac_same = self.count_neighbors()\n",
        "        return np.nanmean(frac_same)\n",
        "    \n",
        "    def step(self):\n",
        "        \"\"\"Executes one time step.\n",
        "                \n",
        "        returns: fraction of similar neighbors, averaged over cells\n",
        "        \"\"\"\n",
        "        a = self.array\n",
        "        empty, _, _, frac_same = self.count_neighbors()\n",
        "        \n",
        "        # find the unhappy cells (ignore NaN in frac_same)\n",
        "        with np.errstate(invalid='ignore'):\n",
        "            unhappy = frac_same < self.p\n",
        "        unhappy_locs = locs_where(unhappy)\n",
        "        \n",
        "        # find the empty cells\n",
        "        empty_locs = locs_where(empty)\n",
        "\n",
        "        # shuffle the unhappy cells\n",
        "        if len(unhappy_locs):\n",
        "            np.random.shuffle(unhappy_locs)\n",
        "            \n",
        "        # for each unhappy cell, choose a random destination\n",
        "        num_empty = np.sum(empty)\n",
        "        for source in unhappy_locs:\n",
        "            i = np.random.randint(num_empty)\n",
        "            dest = empty_locs[i]\n",
        "            \n",
        "            # move\n",
        "            a[dest] = a[source]\n",
        "            a[source] = 0\n",
        "            empty_locs[i] = source\n",
        "        \n",
        "        # check that the number of empty cells is unchanged\n",
        "        num_empty2 = np.sum(a==0)\n",
        "        assert num_empty == num_empty2\n",
        "        \n",
        "        # return the average fraction of similar neighbors\n",
        "        return np.nanmean(frac_same)\n",
        "        \n",
        "    def draw(self):\n",
        "        \"\"\"Draws the cells.\"\"\"\n",
        "        return draw_array(self.array, cmap=cmap, vmax=2)"
      ]
    },
    {
      "cell_type": "markdown",
      "metadata": {
        "id": "xPDwMrkhs14y"
      },
      "source": [
        "Here's a small example."
      ]
    },
    {
      "cell_type": "code",
      "execution_count": 8,
      "metadata": {
        "id": "8FfdIOhms14y",
        "outputId": "494025e5-daea-49e4-b5bf-7afddd90a3b9",
        "colab": {
          "base_uri": "https://localhost:8080/",
          "height": 270
        }
      },
      "outputs": [
        {
          "output_type": "execute_result",
          "data": {
            "text/plain": [
              "0.49756784434203793"
            ]
          },
          "metadata": {},
          "execution_count": 8
        },
        {
          "output_type": "display_data",
          "data": {
            "text/plain": [
              "<Figure size 432x288 with 1 Axes>"
            ],
            "image/png": "[encoded data removed]"
          },
          "metadata": {}
        }
      ],
      "source": [
        "grid = Schelling(n=10, p=0.3)\n",
        "grid.draw()\n",
        "grid.segregation()"
      ]
    },
    {
      "cell_type": "markdown",
      "metadata": {
        "id": "mXOahbU-s14z"
      },
      "source": [
        "And here's an animation for a bigger example:"
      ]
    },
    {
      "cell_type": "markdown",
      "metadata": {
        "id": "k3VCzeuhs140"
      },
      "source": [
        "The degree of segregation increases quickly."
      ]
    },
    {
      "cell_type": "code",
      "execution_count": 9,
      "metadata": {
        "id": "3XImHY47s140",
        "outputId": "fdc2aada-6163-4e23-8a29-fed211515004",
        "colab": {
          "base_uri": "https://localhost:8080/",
          "height": 252
        }
      },
      "outputs": [
        {
          "output_type": "display_data",
          "data": {
            "text/plain": [
              "<Figure size 432x288 with 1 Axes>"
            ],
            "image/png": "[encoded data removed]"
          },
          "metadata": {}
        }
      ],
      "source": [
        "grid = Schelling(n=100, p=0.3)\n",
        "grid.animate(frames=30, interval=0.3)"
      ]
    },
    {
      "cell_type": "markdown",
      "metadata": {
        "id": "7pXcmXmos141"
      },
      "source": [
        "The following figure shows the process after 2 and 10 steps."
      ]
    },
    {
      "cell_type": "code",
      "execution_count": 10,
      "metadata": {
        "id": "xFJ8m0hys141",
        "outputId": "1a5c756a-9ff4-48c8-99de-ec13e6862f35",
        "colab": {
          "base_uri": "https://localhost:8080/",
          "height": 256
        }
      },
      "outputs": [
        {
          "output_type": "display_data",
          "data": {
            "text/plain": [
              "<Figure size 720x288 with 3 Axes>"
            ],
            "image/png": "[encoded data removed]"
          },
          "metadata": {}
        }
      ],
      "source": [
        "from utils import three_frame\n",
        "\n",
        "grid = Schelling(n=100, p=0.3)\n",
        "three_frame(grid, [0, 2, 8])\n",
        "\n",
        "plt.show('figs/chap10-1')"
      ]
    },
    {
      "cell_type": "markdown",
      "metadata": {
        "id": "Bn6uqolOs142"
      },
      "source": [
        "And here's how segregation in steady state relates to `p`, the threshold on the fraction of similar neighbors."
      ]
    },
    {
      "cell_type": "code",
      "execution_count": 11,
      "metadata": {
        "tags": [],
        "id": "mEr6y9ufs143",
        "outputId": "d859ad2f-8b7c-4dea-8e6b-d8c849d7a38c",
        "colab": {
          "base_uri": "https://localhost:8080/",
          "height": 370
        }
      },
      "outputs": [
        {
          "output_type": "stream",
          "name": "stdout",
          "text": [
            "0.5 0.8707797990077598 0.3707797990077598\n",
            "0.4 0.8181252110773387 0.4181252110773387\n",
            "0.3 0.7538847395404771 0.4538847395404771\n",
            "0.2 0.5729593164353953 0.3729593164353953\n"
          ]
        },
        {
          "output_type": "display_data",
          "data": {
            "text/plain": [
              "<Figure size 432x288 with 1 Axes>"
            ],
            "image/png": "[encoded data removed]"
          },
          "metadata": {
            "needs_background": "light"
          }
        }
      ],
      "source": [
        "from utils import set_palette\n",
        "set_palette('Blues', 5, reverse=True)\n",
        "\n",
        "np.random.seed(17)\n",
        "for p in [0.5, 0.4, 0.3, 0.2]:\n",
        "    grid = Schelling(n=100, p=p)\n",
        "    segs = [grid.step() for i in range(12)]\n",
        "    plt.plot(segs, label='p = %.1f' % p)\n",
        "    print(p, segs[-1], segs[-1] - p)\n",
        "    \n",
        "decorate(xlabel='Time steps', ylabel='Segregation',\n",
        "                loc='lower right', ylim=[0, 1])\n",
        "\n",
        "plt.show('figs/chap10-2')"
      ]
    },
    {
      "cell_type": "markdown",
      "metadata": {
        "id": "_-d6EEmzs143"
      },
      "source": [
        "At `p=0.3`, there is a striking difference between the level that would make people happy, at only 30%, and the level they actually get, around 75%."
      ]
    },
    {
      "cell_type": "markdown",
      "metadata": {
        "id": "tWS80_KHs144"
      },
      "source": [
        "**Exercise:** Experiment with different starting conditions: for example, more or fewer empty cells, or unequal numbers of red and blue agents."
      ]
    },
    {
      "cell_type": "markdown",
      "metadata": {
        "id": "OpwOZmDos144"
      },
      "source": [
        "## Sugarscape"
      ]
    },
    {
      "cell_type": "markdown",
      "metadata": {
        "id": "heY6FWuJs144"
      },
      "source": [
        "`make_locs` takes the dimensions of the grid and returns an array where each row is a coordinate in the grid."
      ]
    },
    {
      "cell_type": "code",
      "execution_count": 12,
      "metadata": {
        "id": "85QB3dm4s145"
      },
      "outputs": [],
      "source": [
        "def make_locs(n, m):\n",
        "    \"\"\"Makes array where each row is an index in an `n` by `m` grid.\n",
        "    \n",
        "    n: int number of rows\n",
        "    m: int number of cols\n",
        "    \n",
        "    returns: NumPy array\n",
        "    \"\"\"\n",
        "    t = [(i, j) for i in range(n) for j in range(m)]\n",
        "    return np.array(t)"
      ]
    },
    {
      "cell_type": "code",
      "execution_count": 13,
      "metadata": {
        "id": "xbi9Xdrzs145",
        "outputId": "4f6a0ed5-9467-40bf-a5bd-1676aa2364db",
        "colab": {
          "base_uri": "https://localhost:8080/"
        }
      },
      "outputs": [
        {
          "output_type": "execute_result",
          "data": {
            "text/plain": [
              "array([[0, 0],\n",
              "       [0, 1],\n",
              "       [0, 2],\n",
              "       [1, 0],\n",
              "       [1, 1],\n",
              "       [1, 2]])"
            ]
          },
          "metadata": {},
          "execution_count": 13
        }
      ],
      "source": [
        "make_locs(2, 3)"
      ]
    },
    {
      "cell_type": "markdown",
      "metadata": {
        "id": "TAERGV2xs145"
      },
      "source": [
        "`make_visible_locs` takes the range of an agents vision and returns an array where each row is the coordinate of a visible cell.\n",
        "\n",
        "The cells are at increasing distances.  The cells at each distance are shuffled. "
      ]
    },
    {
      "cell_type": "code",
      "execution_count": 14,
      "metadata": {
        "id": "fHGRjYJvs145"
      },
      "outputs": [],
      "source": [
        "def make_visible_locs(vision):\n",
        "    \"\"\"Computes the kernel of visible cells.\n",
        "        \n",
        "    vision: int distance\n",
        "    \"\"\"\n",
        "    def make_array(d):\n",
        "        \"\"\"Generates visible cells with increasing distance.\"\"\"\n",
        "        a = np.array([[-d, 0], [d, 0], [0, -d], [0, d]])\n",
        "        np.random.shuffle(a)\n",
        "        return a\n",
        "                     \n",
        "    arrays = [make_array(d) for d in range(1, vision+1)]\n",
        "    return np.vstack(arrays)"
      ]
    },
    {
      "cell_type": "code",
      "execution_count": 15,
      "metadata": {
        "id": "5ifdmgzGs146",
        "outputId": "37ce935d-3fc4-46a1-dbd1-5b8528e748b7",
        "colab": {
          "base_uri": "https://localhost:8080/"
        }
      },
      "outputs": [
        {
          "output_type": "execute_result",
          "data": {
            "text/plain": [
              "array([[ 0,  1],\n",
              "       [ 1,  0],\n",
              "       [ 0, -1],\n",
              "       [-1,  0],\n",
              "       [ 0, -2],\n",
              "       [-2,  0],\n",
              "       [ 0,  2],\n",
              "       [ 2,  0]])"
            ]
          },
          "metadata": {},
          "execution_count": 15
        }
      ],
      "source": [
        "make_visible_locs(2)"
      ]
    },
    {
      "cell_type": "markdown",
      "metadata": {
        "id": "YTryQK6Ws146"
      },
      "source": [
        "`distances_from` returns an array that contains the distance of each cell from the given coordinates."
      ]
    },
    {
      "cell_type": "code",
      "execution_count": 16,
      "metadata": {
        "id": "0kwYjGFMs146"
      },
      "outputs": [],
      "source": [
        "def distances_from(n, i, j):\n",
        "    \"\"\"Computes an array of distances.\n",
        "    \n",
        "    n: size of the array\n",
        "    i, j: coordinates to find distance from\n",
        "    \n",
        "    returns: array of float\n",
        "    \"\"\"\n",
        "    X, Y = np.indices((n, n))\n",
        "    return np.hypot(X-i, Y-j)"
      ]
    },
    {
      "cell_type": "code",
      "execution_count": 17,
      "metadata": {
        "id": "dC9jn2Izs147",
        "outputId": "9464b00b-a1fe-44af-d929-782d578b4821",
        "colab": {
          "base_uri": "https://localhost:8080/"
        }
      },
      "outputs": [
        {
          "output_type": "execute_result",
          "data": {
            "text/plain": [
              "array([[2.82842712, 2.23606798, 2.        , 2.23606798, 2.82842712],\n",
              "       [2.23606798, 1.41421356, 1.        , 1.41421356, 2.23606798],\n",
              "       [2.        , 1.        , 0.        , 1.        , 2.        ],\n",
              "       [2.23606798, 1.41421356, 1.        , 1.41421356, 2.23606798],\n",
              "       [2.82842712, 2.23606798, 2.        , 2.23606798, 2.82842712]])"
            ]
          },
          "metadata": {},
          "execution_count": 17
        }
      ],
      "source": [
        "dist = distances_from(5, 2, 2)\n",
        "dist"
      ]
    },
    {
      "cell_type": "markdown",
      "metadata": {
        "id": "ySyE5noIs147"
      },
      "source": [
        "I use `np.digitize` to set the capacity in each cell according to the distance from the peak.  Here's an example that shows how it works."
      ]
    },
    {
      "cell_type": "code",
      "execution_count": 18,
      "metadata": {
        "id": "1cyt9kMrs147",
        "outputId": "ac9f42d9-44f7-4582-e7d1-ccd5eb87b7ac",
        "colab": {
          "base_uri": "https://localhost:8080/"
        }
      },
      "outputs": [
        {
          "output_type": "execute_result",
          "data": {
            "text/plain": [
              "array([[1, 1, 1, 1, 1],\n",
              "       [1, 2, 2, 2, 1],\n",
              "       [1, 2, 3, 2, 1],\n",
              "       [1, 2, 2, 2, 1],\n",
              "       [1, 1, 1, 1, 1]])"
            ]
          },
          "metadata": {},
          "execution_count": 18
        }
      ],
      "source": [
        "bins = [3, 2, 1, 0]\n",
        "np.digitize(dist, bins)"
      ]
    },
    {
      "cell_type": "markdown",
      "metadata": {
        "id": "_cMx0Em2s147"
      },
      "source": [
        "Here's my implementation of Sugarscape:"
      ]
    },
    {
      "cell_type": "code",
      "execution_count": 19,
      "metadata": {
        "id": "eJXHfsR3s148"
      },
      "outputs": [],
      "source": [
        "class Sugarscape(Cell2D):\n",
        "    \"\"\"Represents an Epstein-Axtell Sugarscape.\"\"\"\n",
        "    \n",
        "    def __init__(self, n, **params):\n",
        "        \"\"\"Initializes the attributes.\n",
        "\n",
        "        n: number of rows and columns\n",
        "        params: dictionary of parameters\n",
        "        \"\"\"\n",
        "        self.n = n\n",
        "        self.params = params\n",
        "        \n",
        "        # track variables\n",
        "        self.agent_count_seq = []\n",
        "    \n",
        "        # make the capacity array\n",
        "        self.capacity = self.make_capacity()\n",
        "        \n",
        "        # initially all cells are at capacity\n",
        "        self.array = self.capacity.copy()\n",
        "        \n",
        "        # make the agents\n",
        "        self.make_agents()\n",
        "        \n",
        "    def make_capacity(self):\n",
        "        \"\"\"Makes the capacity array.\"\"\"\n",
        "        \n",
        "        # compute the distance of each cell from the peaks. \n",
        "        dist1 = distances_from(self.n, 15, 15)\n",
        "        dist2 = distances_from(self.n, 35, 35)\n",
        "        dist = np.minimum(dist1, dist2)\n",
        "        \n",
        "        # cells in the capacity array are set according to dist from peak\n",
        "        bins = [21, 16, 11, 6]\n",
        "        a = np.digitize(dist, bins)\n",
        "        return a\n",
        "        \n",
        "    def make_agents(self):\n",
        "        \"\"\"Makes the agents.\"\"\"\n",
        "        \n",
        "        # determine where the agents start and generate locations\n",
        "        n, m = self.params.get('starting_box', self.array.shape)\n",
        "        locs = make_locs(n, m)\n",
        "        np.random.shuffle(locs)\n",
        "\n",
        "        # make the agents\n",
        "        num_agents = self.params.get('num_agents', 400)\n",
        "        assert(num_agents <= len(locs))\n",
        "        self.agents = [Agent(locs[i], self.params) \n",
        "                       for i in range(num_agents)]\n",
        "        \n",
        "        # keep track of which cells are occupied\n",
        "        self.occupied = set(agent.loc for agent in self.agents)\n",
        "            \n",
        "    def grow(self):\n",
        "        \"\"\"Adds sugar to all cells and caps them by capacity.\"\"\"\n",
        "        grow_rate = self.params.get('grow_rate', 1)\n",
        "        self.array = np.minimum(self.array + grow_rate, self.capacity)\n",
        "        \n",
        "    def look_and_move(self, center, vision):\n",
        "        \"\"\"Finds the visible cell with the most sugar.\n",
        "        \n",
        "        center: tuple, coordinates of the center cell\n",
        "        vision: int, maximum visible distance\n",
        "        \n",
        "        returns: tuple, coordinates of best cell\n",
        "        \"\"\"\n",
        "        # find all visible cells\n",
        "        locs = make_visible_locs(vision)\n",
        "        locs = (locs + center) % self.n\n",
        "        \n",
        "        # convert rows of the array to tuples\n",
        "        locs = [tuple(loc) for loc in locs]\n",
        "        \n",
        "        # select unoccupied cells\n",
        "        empty_locs = [loc for loc in locs if loc not in self.occupied]\n",
        "        \n",
        "        # if all visible cells are occupied, stay put\n",
        "        if len(empty_locs) == 0:\n",
        "            return center\n",
        "        \n",
        "        # look up the sugar level in each cell\n",
        "        t = [self.array[loc] for loc in empty_locs]\n",
        "        \n",
        "        # find the best one and return it\n",
        "        # (in case of tie, argmax returns the first, which\n",
        "        # is the closest)\n",
        "        i = np.argmax(t)\n",
        "        return empty_locs[i]\n",
        "    \n",
        "    def harvest(self, loc):\n",
        "        \"\"\"Removes and returns the sugar from `loc`.\n",
        "        \n",
        "        loc: tuple coordinates\n",
        "        \"\"\"\n",
        "        sugar = self.array[loc]\n",
        "        self.array[loc] = 0\n",
        "        return sugar\n",
        "    \n",
        "    def step(self):\n",
        "        \"\"\"Executes one time step.\"\"\"\n",
        "        replace = self.params.get('replace', False)\n",
        "        \n",
        "        # loop through the agents in random order\n",
        "        random_order = np.random.permutation(self.agents)\n",
        "        for agent in random_order:\n",
        "            \n",
        "            # mark the current cell unoccupied\n",
        "            self.occupied.remove(agent.loc)\n",
        "            \n",
        "            # execute one step\n",
        "            agent.step(self)\n",
        "\n",
        "            # if the agent is dead, remove from the list\n",
        "            if agent.is_starving() or agent.is_old():\n",
        "                self.agents.remove(agent)\n",
        "                if replace:\n",
        "                    self.add_agent()\n",
        "            else:\n",
        "                # otherwise mark its cell occupied\n",
        "                self.occupied.add(agent.loc)\n",
        "\n",
        "        # update the time series\n",
        "        self.agent_count_seq.append(len(self.agents))\n",
        "        \n",
        "        # grow back some sugar\n",
        "        self.grow()\n",
        "        return len(self.agents)\n",
        "    \n",
        "    def add_agent(self):\n",
        "        \"\"\"Generates a new random agent.\n",
        "                \n",
        "        returns: new Agent\n",
        "        \"\"\"\n",
        "        new_agent = Agent(self.random_loc(), self.params)\n",
        "        self.agents.append(new_agent)\n",
        "        self.occupied.add(new_agent.loc)\n",
        "        return new_agent\n",
        "    \n",
        "    def random_loc(self):\n",
        "        \"\"\"Choose a random unoccupied cell.\n",
        "        \n",
        "        returns: tuple coordinates\n",
        "        \"\"\"\n",
        "        while True:\n",
        "            loc = tuple(np.random.randint(self.n, size=2))\n",
        "            if loc not in self.occupied:\n",
        "                return loc\n",
        "\n",
        "    def draw(self):\n",
        "        \"\"\"Draws the cells.\"\"\"\n",
        "        draw_array(self.array, cmap='YlOrRd', vmax=9, origin='lower')\n",
        "        \n",
        "        # draw the agents\n",
        "        xs, ys = self.get_coords()\n",
        "        self.points = plt.plot(xs, ys, '.', color='red')[0]\n",
        "    \n",
        "    def get_coords(self):\n",
        "        \"\"\"Gets the coordinates of the agents.\n",
        "        \n",
        "        Transforms from (row, col) to (x, y).\n",
        "        \n",
        "        returns: tuple of sequences, (xs, ys)\n",
        "        \"\"\"\n",
        "        agents = self.agents\n",
        "        rows, cols = np.transpose([agent.loc for agent in agents])\n",
        "        xs = cols + 0.5\n",
        "        ys = rows + 0.5\n",
        "        return xs, ys"
      ]
    },
    {
      "cell_type": "markdown",
      "metadata": {
        "id": "MKqJRPAbs149"
      },
      "source": [
        "And here's a viewer that displays the state of Sugarscape."
      ]
    },
    {
      "cell_type": "markdown",
      "metadata": {
        "id": "XKNAXCzLs149"
      },
      "source": [
        "Here's my implementation of the agents."
      ]
    },
    {
      "cell_type": "code",
      "execution_count": 20,
      "metadata": {
        "id": "6kBQ33uCs149"
      },
      "outputs": [],
      "source": [
        "class Agent:\n",
        "    \n",
        "    def __init__(self, loc, params):\n",
        "        \"\"\"Creates a new agent at the given location.\n",
        "        \n",
        "        loc: tuple coordinates\n",
        "        params: dictionary of parameters\n",
        "        \"\"\"\n",
        "        self.loc = tuple(loc)\n",
        "        self.age = 0\n",
        "\n",
        "        # extract the parameters\n",
        "        max_vision = params.get('max_vision', 6)\n",
        "        max_metabolism = params.get('max_metabolism', 4)\n",
        "        min_lifespan = params.get('min_lifespan', 10000)\n",
        "        max_lifespan = params.get('max_lifespan', 10000)\n",
        "        min_sugar = params.get('min_sugar', 5)\n",
        "        max_sugar = params.get('max_sugar', 25)\n",
        "        \n",
        "        # choose attributes\n",
        "        self.vision = np.random.randint(1, max_vision+1)\n",
        "        self.metabolism = np.random.uniform(1, max_metabolism)\n",
        "        self.lifespan = np.random.uniform(min_lifespan, max_lifespan)\n",
        "        self.sugar = np.random.uniform(min_sugar, max_sugar)\n",
        "\n",
        "    def step(self, env):\n",
        "        \"\"\"Look around, move, and harvest.\n",
        "        \n",
        "        env: Sugarscape\n",
        "        \"\"\"\n",
        "        self.loc = env.look_and_move(self.loc, self.vision)\n",
        "        self.sugar += env.harvest(self.loc) - self.metabolism\n",
        "        self.age += 1\n",
        "\n",
        "    def is_starving(self):\n",
        "        \"\"\"Checks if sugar has gone negative.\"\"\"\n",
        "        return self.sugar < 0\n",
        "    \n",
        "    def is_old(self):\n",
        "        \"\"\"Checks if lifespan is exceeded.\"\"\"\n",
        "        return self.age > self.lifespan"
      ]
    },
    {
      "cell_type": "markdown",
      "metadata": {
        "id": "VfJ9mL0os14-"
      },
      "source": [
        "Here's an example with `n=50`, starting with 400 agents."
      ]
    },
    {
      "cell_type": "code",
      "execution_count": 21,
      "metadata": {
        "scrolled": true,
        "id": "PdRZu2Ens14-",
        "outputId": "856ed440-dddf-4eea-a481-364b1cc7c3d8",
        "colab": {
          "base_uri": "https://localhost:8080/",
          "height": 252
        }
      },
      "outputs": [
        {
          "output_type": "display_data",
          "data": {
            "text/plain": [
              "<Figure size 432x288 with 1 Axes>"
            ],
            "image/png": "[encoded data removed]"
          },
          "metadata": {}
        }
      ],
      "source": [
        "env = Sugarscape(50, num_agents=400)\n",
        "env.draw()"
      ]
    },
    {
      "cell_type": "markdown",
      "metadata": {
        "id": "nbV5A7a4s14_"
      },
      "source": [
        "The distribution of vision is uniform from 1 to 6."
      ]
    },
    {
      "cell_type": "code",
      "execution_count": 22,
      "metadata": {
        "tags": [],
        "id": "y-elv1nHs14_",
        "outputId": "4b3bcdac-843e-4222-c986-d51aa4e7c0e3",
        "colab": {
          "base_uri": "https://localhost:8080/",
          "height": 391
        }
      },
      "outputs": [
        {
          "output_type": "error",
          "ename": "ModuleNotFoundError",
          "evalue": "ignored",
          "traceback": [
            "\u001b[0;31m---------------------------------------------------------------------------\u001b[0m",
            "\u001b[0;31mModuleNotFoundError\u001b[0m                       Traceback (most recent call last)",
            "\u001b[0;32m<ipython-input-22-4c24eb2855ad>\u001b[0m in \u001b[0;36m<module>\u001b[0;34m()\u001b[0m\n\u001b[0;32m----> 1\u001b[0;31m \u001b[0;32mfrom\u001b[0m \u001b[0mempiricaldist\u001b[0m \u001b[0;32mimport\u001b[0m \u001b[0mCdf\u001b[0m\u001b[0;34m\u001b[0m\u001b[0;34m\u001b[0m\u001b[0m\n\u001b[0m\u001b[1;32m      2\u001b[0m \u001b[0;34m\u001b[0m\u001b[0m\n\u001b[1;32m      3\u001b[0m \u001b[0mcdf\u001b[0m \u001b[0;34m=\u001b[0m \u001b[0mCdf\u001b[0m\u001b[0;34m.\u001b[0m\u001b[0mfrom_seq\u001b[0m\u001b[0;34m(\u001b[0m\u001b[0magent\u001b[0m\u001b[0;34m.\u001b[0m\u001b[0mvision\u001b[0m \u001b[0;32mfor\u001b[0m \u001b[0magent\u001b[0m \u001b[0;32min\u001b[0m \u001b[0menv\u001b[0m\u001b[0;34m.\u001b[0m\u001b[0magents\u001b[0m\u001b[0;34m)\u001b[0m\u001b[0;34m\u001b[0m\u001b[0;34m\u001b[0m\u001b[0m\n\u001b[1;32m      4\u001b[0m \u001b[0mcdf\u001b[0m\u001b[0;34m.\u001b[0m\u001b[0mplot\u001b[0m\u001b[0;34m(\u001b[0m\u001b[0;34m)\u001b[0m\u001b[0;34m\u001b[0m\u001b[0;34m\u001b[0m\u001b[0m\n\u001b[1;32m      5\u001b[0m \u001b[0mdecorate\u001b[0m\u001b[0;34m(\u001b[0m\u001b[0mxlabel\u001b[0m\u001b[0;34m=\u001b[0m\u001b[0;34m'Vision'\u001b[0m\u001b[0;34m,\u001b[0m \u001b[0mylabel\u001b[0m\u001b[0;34m=\u001b[0m\u001b[0;34m'CDF'\u001b[0m\u001b[0;34m)\u001b[0m\u001b[0;34m\u001b[0m\u001b[0;34m\u001b[0m\u001b[0m\n",
            "\u001b[0;31mModuleNotFoundError\u001b[0m: No module named 'empiricaldist'",
            "",
            "\u001b[0;31m---------------------------------------------------------------------------\u001b[0;32m\nNOTE: If your import is failing due to a missing package, you can\nmanually install dependencies using either !pip or !apt.\n\nTo view examples of installing some common dependencies, click the\n\"Open Examples\" button below.\n\u001b[0;31m---------------------------------------------------------------------------\u001b[0m\n"
          ],
          "errorDetails": {
            "actions": [
              {
                "action": "open_url",
                "actionText": "Open Examples",
                "url": "/notebooks/snippets/importing_libraries.ipynb"
              }
            ]
          }
        }
      ],
      "source": [
        "from empiricaldist import Cdf\n",
        "\n",
        "cdf = Cdf.from_seq(agent.vision for agent in env.agents)\n",
        "cdf.plot()\n",
        "decorate(xlabel='Vision', ylabel='CDF')"
      ]
    },
    {
      "cell_type": "markdown",
      "metadata": {
        "id": "ndegIuSus14_"
      },
      "source": [
        "The distribution of metabolism is uniform from 1 to 4."
      ]
    },
    {
      "cell_type": "code",
      "execution_count": null,
      "metadata": {
        "id": "L9GGoOQZs14_"
      },
      "outputs": [],
      "source": [
        "cdf = Cdf.from_seq(agent.metabolism for agent in env.agents)\n",
        "cdf.plot()\n",
        "decorate(xlabel='Metabolism', ylabel='CDF')"
      ]
    },
    {
      "cell_type": "markdown",
      "metadata": {
        "id": "2MzadDIPs15A"
      },
      "source": [
        "The distribution of initial endowment of sugar is uniform from 5 to 25."
      ]
    },
    {
      "cell_type": "code",
      "execution_count": null,
      "metadata": {
        "id": "0medbf0vs15A"
      },
      "outputs": [],
      "source": [
        "cdf = Cdf.from_seq(agent.sugar for agent in env.agents)\n",
        "cdf.plot()\n",
        "decorate(xlabel='Sugar', ylabel='CDF')"
      ]
    },
    {
      "cell_type": "code",
      "execution_count": null,
      "metadata": {
        "id": "XKYlc4VIs15A"
      },
      "outputs": [],
      "source": [
        "env.step()\n",
        "env.draw()"
      ]
    },
    {
      "cell_type": "markdown",
      "metadata": {
        "id": "p07Z7W4Hs15A"
      },
      "source": [
        "Here's what the animation looks like."
      ]
    },
    {
      "cell_type": "code",
      "execution_count": null,
      "metadata": {
        "id": "gnr1SLwMs15A"
      },
      "outputs": [],
      "source": [
        "env.animate(frames=50)"
      ]
    },
    {
      "cell_type": "markdown",
      "metadata": {
        "id": "_n5g-Q_qs15A"
      },
      "source": [
        "The number of agents levels off at the \"carrying capacity\":"
      ]
    },
    {
      "cell_type": "code",
      "execution_count": null,
      "metadata": {
        "id": "xdUUYZWks15A"
      },
      "outputs": [],
      "source": [
        "len(env.agents)"
      ]
    },
    {
      "cell_type": "code",
      "execution_count": null,
      "metadata": {
        "id": "bvTcfbf_s15B"
      },
      "outputs": [],
      "source": [
        "plt.plot(env.agent_count_seq)\n",
        "decorate(xlabel='Time steps', ylabel='Number of Agents')"
      ]
    },
    {
      "cell_type": "markdown",
      "metadata": {
        "id": "DyX28A6is15B"
      },
      "source": [
        "This figure shows the state of the system after 2 and 10 steps."
      ]
    },
    {
      "cell_type": "code",
      "execution_count": null,
      "metadata": {
        "id": "Kwgn9Iths15C"
      },
      "outputs": [],
      "source": [
        "env = Sugarscape(50, num_agents=400)\n",
        "three_frame(env, [0, 2, 98])\n",
        "\n",
        "plt.show('figs/chap10-3')"
      ]
    },
    {
      "cell_type": "markdown",
      "metadata": {
        "id": "FBYRpGejs15C"
      },
      "source": [
        "**Exercise:** Experiment with different numbers of agents.  Try increasing or decreasing their vision or metabolism, and see what effect is has on carrying capacity."
      ]
    },
    {
      "cell_type": "markdown",
      "metadata": {
        "id": "nV9sPnXms15C"
      },
      "source": [
        "## Sugarscape with finite lifespans"
      ]
    },
    {
      "cell_type": "markdown",
      "metadata": {
        "id": "JlsOT1v-s15C"
      },
      "source": [
        "Now we start with 250 agents, with lifetimes from 60 to 100, and replacement."
      ]
    },
    {
      "cell_type": "code",
      "execution_count": null,
      "metadata": {
        "id": "huZeA-E-s15D"
      },
      "outputs": [],
      "source": [
        "env = Sugarscape(50, num_agents=250,\n",
        "                 min_lifespan=60, max_lifespan=100, \n",
        "                 replace=True)\n",
        "\n",
        "env.animate(frames=100)"
      ]
    },
    {
      "cell_type": "markdown",
      "metadata": {
        "id": "W6TQFe8Ts15D"
      },
      "source": [
        "After 100 time steps, the distribution of wealth is skewed to the right.  Most agents have very little sugar, but a few have a lot."
      ]
    },
    {
      "cell_type": "code",
      "execution_count": null,
      "metadata": {
        "id": "Kl4p8DH9s15D"
      },
      "outputs": [],
      "source": [
        "cdf = Cdf.from_seq(agent.sugar for agent in env.agents)\n",
        "cdf.plot()\n",
        "decorate(xlabel='Wealth', ylabel='CDF')"
      ]
    },
    {
      "cell_type": "code",
      "execution_count": null,
      "metadata": {
        "id": "qVdRF77-s15D"
      },
      "outputs": [],
      "source": [
        "cdf.quantile([0.25, 0.50, 0.75, 0.90])"
      ]
    },
    {
      "cell_type": "markdown",
      "metadata": {
        "id": "08M_wWFus15E"
      },
      "source": [
        "Starting with the same parameters, I'll run the model 500 steps, recording the distribution of wealth after each 100 steps:"
      ]
    },
    {
      "cell_type": "code",
      "execution_count": null,
      "metadata": {
        "id": "fYdMBaeLs15E"
      },
      "outputs": [],
      "source": [
        "np.random.seed(17)\n",
        "\n",
        "env = Sugarscape(50, num_agents=250,\n",
        "                 min_lifespan=60, max_lifespan=100, \n",
        "                 replace=True)\n",
        "\n",
        "cdf = Cdf.from_seq(agent.sugar for agent in env.agents)\n",
        "cdfs = [cdf]\n",
        "for i in range(5):\n",
        "    env.loop(100)\n",
        "    cdf = Cdf.from_seq(agent.sugar for agent in env.agents)\n",
        "    cdfs.append(cdf)"
      ]
    },
    {
      "cell_type": "markdown",
      "metadata": {
        "id": "7lBtT9_Bs15E"
      },
      "source": [
        "After about 200 steps, the distribution is stationary (doesn't change over time).\n",
        "\n",
        "On a log scale, it is approximately normal, possibly with a truncated right tail."
      ]
    },
    {
      "cell_type": "code",
      "execution_count": null,
      "metadata": {
        "id": "tHFnoq6ns15F"
      },
      "outputs": [],
      "source": [
        "plt.figure(figsize=(10, 6))\n",
        "plt.subplot(1, 2, 1)\n",
        "\n",
        "def plot_cdfs(cdfs, **options):\n",
        "    for cdf in cdfs:\n",
        "        cdf.plot(**options)\n",
        "        \n",
        "plot_cdfs(cdfs[:-1], color='gray', alpha=0.3)\n",
        "plot_cdfs(cdfs[-1:], color='C0')\n",
        "decorate(xlabel='Wealth', ylabel='CDF')\n",
        "\n",
        "plt.subplot(1, 2, 2)\n",
        "plot_cdfs(cdfs[:-1], color='gray', alpha=0.3)\n",
        "plot_cdfs(cdfs[-1:], color='C0')\n",
        "decorate(xlabel='Wealth', ylabel='CDF', xscale='log')\n",
        "\n",
        "plt.show('figs/chap10-4')"
      ]
    },
    {
      "cell_type": "markdown",
      "metadata": {
        "id": "vecbTxE8s15F"
      },
      "source": [
        "**Exercise:** Experiment with different starting conditions and agents with different vision, metabolism, and lifespan.  What effect do these changes have on the distribution of wealth?"
      ]
    },
    {
      "cell_type": "markdown",
      "metadata": {
        "id": "JothmXbzs15F"
      },
      "source": [
        "## Migration in waves"
      ]
    },
    {
      "cell_type": "markdown",
      "metadata": {
        "id": "w8RQHD-ss15F"
      },
      "source": [
        "If we start with all agents in the lower left, they propagate up and to the right in waves."
      ]
    },
    {
      "cell_type": "code",
      "execution_count": null,
      "metadata": {
        "id": "Z7iRD1Xbs15G"
      },
      "outputs": [],
      "source": [
        "np.random.seed(17)\n",
        "\n",
        "env = Sugarscape(50, num_agents=300, starting_box=(20, 20), max_vision=16)\n",
        "    \n",
        "env.animate(frames=20, interval=0.4)"
      ]
    },
    {
      "cell_type": "markdown",
      "metadata": {
        "id": "5WdTbFSss15G"
      },
      "source": [
        "Here's what it looks like after 6 and 12 steps."
      ]
    },
    {
      "cell_type": "code",
      "execution_count": null,
      "metadata": {
        "id": "5ktQuXHLs15H"
      },
      "outputs": [],
      "source": [
        "env = Sugarscape(50, num_agents=300, starting_box=(20, 20), max_vision=16)\n",
        "three_frame(env, [0, 6, 6])\n",
        "plt.show('figs/chap09-5')"
      ]
    },
    {
      "cell_type": "markdown",
      "metadata": {
        "id": "HS814oYhs15H"
      },
      "source": [
        "This example is interesting because the waves move diagonally, unlike the agents, who can only move up or to the right.  They are similar in some ways to gliders and other Game of Life spaceships. "
      ]
    },
    {
      "cell_type": "markdown",
      "metadata": {
        "id": "IzVNqZMns15H"
      },
      "source": [
        "**Exercise:** Again, experiment with different starting conditions and see what effect they have on the wave behavior."
      ]
    },
    {
      "cell_type": "markdown",
      "metadata": {
        "id": "ZJBh5krBs15H"
      },
      "source": [
        "## Exercises"
      ]
    },
    {
      "cell_type": "markdown",
      "metadata": {
        "id": "tsZOtf5cs15I"
      },
      "source": [
        "**Exercise:** Bill Bishop, author of *The Big Sort*, argues that\n",
        "American society is increasingly segregated by political\n",
        "opinion, as people choose to live among like-minded neighbors.\n",
        "\n",
        "The mechanism Bishop hypothesizes is not that people, like the agents\n",
        "in Schelling's model, are more likely to move if they are\n",
        "isolated, but that when they move for any reason, they are\n",
        "likely to choose a neighborhood with people like themselves.\n",
        "\n",
        "Write a version of Schelling's model to simulate\n",
        "this kind of behavior and see if it yields similar degrees of\n",
        "segregation.\n",
        "\n",
        "There are several ways you can model Bishop's hypothesis.  In my\n",
        "implementation, a random selection of agents moves during each step.\n",
        "Each agent considers `k` randomly-chosen empty locations and\n",
        "chooses the one with the highest fraction of similar neighbors.\n",
        "How does the degree of segregation depend on `k`?\n",
        "\n",
        "You should be able to implement this model by inheriting from\n",
        "`Schelling` and overriding `__init__` and `step`.\n",
        "\n"
      ]
    },
    {
      "cell_type": "code",
      "execution_count": null,
      "metadata": {
        "id": "dHSmfLg6s15I"
      },
      "outputs": [],
      "source": [
        "# Solution goes here"
      ]
    },
    {
      "cell_type": "code",
      "execution_count": null,
      "metadata": {
        "id": "MhyI5wfSs15I"
      },
      "outputs": [],
      "source": [
        "# Solution goes here"
      ]
    },
    {
      "cell_type": "markdown",
      "metadata": {
        "id": "OoBP7lvas15J"
      },
      "source": [
        "And a test of the `step` method"
      ]
    },
    {
      "cell_type": "code",
      "execution_count": null,
      "metadata": {
        "id": "HqrMBQkMs15J"
      },
      "outputs": [],
      "source": [
        "# Solution goes here"
      ]
    },
    {
      "cell_type": "code",
      "execution_count": null,
      "metadata": {
        "id": "B-Q4jSavs15J"
      },
      "outputs": [],
      "source": [
        "# Solution goes here"
      ]
    },
    {
      "cell_type": "code",
      "execution_count": null,
      "metadata": {
        "id": "hQLt8P-Ps15J"
      },
      "outputs": [],
      "source": [
        "# Solution goes here"
      ]
    },
    {
      "cell_type": "code",
      "execution_count": null,
      "metadata": {
        "id": "ZEDYyFixs15J"
      },
      "outputs": [],
      "source": [
        "# Solution goes here"
      ]
    },
    {
      "cell_type": "markdown",
      "metadata": {
        "id": "Z3Dddm5fs15K"
      },
      "source": [
        "**Exercise:** In the first version of Sugarscape, we never add agents, so once the population falls, it never recovers.  In the second version, we only replace agents when they die, so the population is constant.  Now let's see what happens if we add some \"population pressure\".\n",
        "\n",
        "Write a version of Sugarscape that adds a new agent at the end of every step.  Add code to compute the average vision and the average metabolism of the agents at the end of each step.  Run the model for a few hundred steps and plot the population over time, as well as the average vision and average metabolism.\n",
        "\n",
        "You should be able to implement this model by inheriting from\n",
        "`Sugarscape` and overriding `__init__` and `step`."
      ]
    },
    {
      "cell_type": "code",
      "execution_count": null,
      "metadata": {
        "id": "I_tqIU-2s15K"
      },
      "outputs": [],
      "source": [
        "# Solution goes here"
      ]
    },
    {
      "cell_type": "code",
      "execution_count": null,
      "metadata": {
        "id": "-342YY6-s15K"
      },
      "outputs": [],
      "source": [
        "# Solution goes here"
      ]
    },
    {
      "cell_type": "code",
      "execution_count": null,
      "metadata": {
        "id": "6A9-ZVP_s15K"
      },
      "outputs": [],
      "source": [
        "# Solution goes here"
      ]
    },
    {
      "cell_type": "code",
      "execution_count": null,
      "metadata": {
        "id": "uV3LCt3ys15K"
      },
      "outputs": [],
      "source": [
        "# Solution goes here"
      ]
    },
    {
      "cell_type": "code",
      "execution_count": null,
      "metadata": {
        "scrolled": true,
        "id": "qLV5vheqs15L"
      },
      "outputs": [],
      "source": [
        "# Solution goes here"
      ]
    },
    {
      "cell_type": "code",
      "execution_count": null,
      "metadata": {
        "id": "JNoNhXwBs15L"
      },
      "outputs": [],
      "source": [
        "# Solution goes here"
      ]
    },
    {
      "cell_type": "code",
      "execution_count": null,
      "metadata": {
        "id": "8aS7AAF-s15L"
      },
      "outputs": [],
      "source": [
        "# Solution goes here"
      ]
    },
    {
      "cell_type": "code",
      "execution_count": null,
      "metadata": {
        "id": "UGF4xdyBs15M"
      },
      "outputs": [],
      "source": [
        "# Solution goes here"
      ]
    },
    {
      "cell_type": "code",
      "execution_count": null,
      "metadata": {
        "scrolled": true,
        "id": "7p2IyGVvs15M"
      },
      "outputs": [],
      "source": [
        "# Solution goes here"
      ]
    },
    {
      "cell_type": "code",
      "execution_count": null,
      "metadata": {
        "id": "w5LxosoKs15M"
      },
      "outputs": [],
      "source": [
        "# Solution goes here"
      ]
    },
    {
      "cell_type": "code",
      "execution_count": null,
      "metadata": {
        "id": "KI7T7D2Ts15N"
      },
      "outputs": [],
      "source": [
        ""
      ]
    }
  ],
  "metadata": {
    "kernelspec": {
      "display_name": "Python 3.8.3 32-bit",
      "language": "python",
      "name": "python_defaultSpec_1594391042880"
    },
    "language_info": {
      "codemirror_mode": {
        "name": "ipython",
        "version": 3
      },
      "file_extension": ".py",
      "mimetype": "text/x-python",
      "name": "python",
      "nbconvert_exporter": "python",
      "pygments_lexer": "ipython3",
      "version": "3.8.3-final"
    },
    "colab": {
      "name": "chap11.ipynb",
      "provenance": []
    }
  },
  "nbformat": 4,
  "nbformat_minor": 0
}